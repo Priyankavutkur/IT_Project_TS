{
 "cells": [
  {
   "cell_type": "code",
   "execution_count": 3,
   "id": "e2c450ee",
   "metadata": {},
   "outputs": [
    {
     "name": "stderr",
     "output_type": "stream",
     "text": [
      "/tmp/ipykernel_13258/2367233542.py:4: DeprecationWarning: Call to deprecated function get_sheet_names (Use wb.sheetnames).\n",
      "  sheet=wb.get_sheet_names()\n"
     ]
    },
    {
     "data": {
      "text/plain": [
       "['For QC', 'Chinna', 'TS India Purchases']"
      ]
     },
     "execution_count": 3,
     "metadata": {},
     "output_type": "execute_result"
    }
   ],
   "source": [
    "import openpyxl\n",
    "wb = openpyxl.load_workbook('assert_data_copy.xlsx')\n",
    "#sheet = wb.get_active_sheet()\n",
    "sheet=wb.get_sheet_names()\n",
    "sheet"
   ]
  },
  {
   "cell_type": "code",
   "execution_count": 4,
   "id": "d12a0026",
   "metadata": {},
   "outputs": [
    {
     "name": "stderr",
     "output_type": "stream",
     "text": [
      "/tmp/ipykernel_13258/3355210246.py:1: DeprecationWarning: Call to deprecated function get_sheet_by_name (Use wb[sheetname]).\n",
      "  sheet = wb.get_sheet_by_name(\"TS India Purchases\")\n"
     ]
    }
   ],
   "source": [
    "sheet = wb.get_sheet_by_name(\"TS India Purchases\")"
   ]
  },
  {
   "cell_type": "code",
   "execution_count": 9,
   "id": "347ab417",
   "metadata": {},
   "outputs": [
    {
     "data": {
      "text/plain": [
       "210458"
      ]
     },
     "execution_count": 9,
     "metadata": {},
     "output_type": "execute_result"
    }
   ],
   "source": [
    "sheet[\"H2\"].value"
   ]
  },
  {
   "cell_type": "code",
   "execution_count": null,
   "id": "179cc699",
   "metadata": {},
   "outputs": [],
   "source": []
  }
 ],
 "metadata": {
  "kernelspec": {
   "display_name": "Python 3 (ipykernel)",
   "language": "python",
   "name": "python3"
  },
  "language_info": {
   "codemirror_mode": {
    "name": "ipython",
    "version": 3
   },
   "file_extension": ".py",
   "mimetype": "text/x-python",
   "name": "python",
   "nbconvert_exporter": "python",
   "pygments_lexer": "ipython3",
   "version": "3.9.12"
  }
 },
 "nbformat": 4,
 "nbformat_minor": 5
}
